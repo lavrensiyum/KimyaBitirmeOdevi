{
 "cells": [
  {
   "cell_type": "markdown",
   "metadata": {
    "vscode": {
     "languageId": "latex"
    }
   },
   "source": [
    "# Hesaplama Sonuçları\n",
    "\n",
    "## ORJ Değeri\n",
    "\n",
    "-955.729908\n",
    "\n",
    "## H Bağı Olasılıkları\n",
    "\n",
    "| H Bağı Olasılığı | Değer |\n",
    "|---|---|\n",
    "| MATrp_0 | -955.729908 |\n",
    "| MATrp_1 | -955.729908 |\n",
    "| MATrp_2 | -955.729908 |\n",
    "\n",
    "## Dihedral ve Açı Değişiklikleri\n",
    "\n",
    "| Değer | ORJ'den Fark | Fark (Sıfırları Atılmış) |\n",
    "|---|---|---|\n",
    "| D1 | -0.000153 | -153 |\n",
    "| D2 | -0.000000 | 0 |\n",
    "| D3 | -0.000000 | 0 |\n",
    "| D4 | -0.026814 | -26814 |\n",
    "| D5 | -0.006566 | -6566 |\n",
    "| D6 | -0.030630 | -30630 |\n",
    "| D7 | -0.030173 | -30173 |\n",
    "| D8 | -0.006566 | -6566 |\n",
    "| D9 | -0.030630 | -30630 |\n",
    "| D10 | -0.030630 | -30630 |\n",
    "| D11 | -0.030630 | -30630 |"
   ]
  },
  {
   "cell_type": "markdown",
   "metadata": {},
   "source": [
    "# D1. <<C32 - C31 - C30 - O34>> 180* döndürüldü\n",
    "\n",
    "Önce\n",
    "\n",
    "<img src=\"MATrp_D1/Orj.jpg\" alt=\"img\" style=\"height:30%; width:30%;\">\n",
    "\n",
    "Yapılacak İşlem\n",
    "\n",
    "<img src=\"MATrp_D1/Before.jpg\" alt=\"img\" style=\"height:30%; width:30%;\">\n",
    "\n",
    "Sonuç\n",
    "\n",
    "<img src=\"MATrp_D1/After.jpg\" alt=\"img\" style=\"height:30%; width:30%;\">\n",
    "\n",
    "\n",
    "* Energy E(RB3LYP): -955.729755 Hartree (Değişim: +000.153) (Daha kararsız)\n"
   ]
  },
  {
   "cell_type": "markdown",
   "metadata": {
    "vscode": {
     "languageId": "plaintext"
    }
   },
   "source": [
    "# D2. <<C6 - C2 - N1>> Üç atom grubu da düzleştirildi\n",
    "\n",
    "\n",
    "Önce\n",
    "\n",
    "<img src=\"MATrp_D2/Before.jpg\" alt=\"img\" style=\"height:30%; width:30%;\">\n",
    "\n",
    "Yapılacak İşlem\n",
    "\n",
    "<img src=\"MATrp_D2/Input.jpg\" alt=\"img\" style=\"height:30%; width:30%;\">\n",
    "\n",
    "Sonuç\n",
    "\n",
    "<img src=\"MATrp_D2/Output.jpg\" alt=\"img\" style=\"height:30%; width:30%;\">\n",
    "\n",
    "\n",
    "* Energy E(RB3LYP): -955.729908 Hartree (Değişim yok)"
   ]
  },
  {
   "cell_type": "markdown",
   "metadata": {},
   "source": [
    "# D2. <<C6 - C2 - C9>> C9, C2 ye yaklaştırıldı\n",
    "\n",
    "\n",
    "Önce\n",
    "\n",
    "<img src=\"MATrp_D3/Before.jpg\" alt=\"img\" style=\"height:30%; width:30%;\">\n",
    "\n",
    "Yapılacak İşlem\n",
    "\n",
    "<img src=\"MATrp_D3/Input.jpg\" alt=\"img\" style=\"height:30%; width:30%;\">\n",
    "\n",
    "Sonuç\n",
    "\n",
    "<img src=\"MATrp_D3/Output.jpg\" alt=\"img\" style=\"height:30%; width:30%;\">\n",
    "\n",
    "\n",
    "* Energy E(RB3LYP): -955.729908 Hartree (Değişim yok)"
   ]
  },
  {
   "cell_type": "markdown",
   "metadata": {},
   "source": [
    "# D4.\n",
    "\n",
    "\n",
    "Önce\n",
    "\n",
    "<img src=\"MATrp_D4/orj.jpg\" alt=\"img\" style=\"height:30%; width:30%;\">\n",
    "\n",
    "Yapılacak İşlem\n",
    "\n",
    "<img src=\"MATrp_D4/before.jpg\" alt=\"img\" style=\"height:30%; width:30%;\">\n",
    "\n",
    "Sonuç\n",
    "\n",
    "<img src=\"MATrp_D4/sonuc.jpg\" alt=\"img\" style=\"height:30%; width:30%;\">\n",
    "\n",
    "\n",
    "* Energy E(RB3LYP): -955.756722 Hartree (Değişim yok)"
   ]
  },
  {
   "cell_type": "markdown",
   "metadata": {},
   "source": [
    "\n",
    "# D5.\n",
    "\n",
    "\n",
    "Önce\n",
    "\n",
    "<img src=\"MATrp_D5/orj.jpg\" alt=\"img\" style=\"height:30%; width:30%;\">\n",
    "\n",
    "Yapılacak İşlem\n",
    "\n",
    "<img src=\"MATrp_D5/before.jpg\" alt=\"img\" style=\"height:30%; width:30%;\">\n",
    "\n",
    "Sonuç\n",
    "\n",
    "<img src=\"MATrp_D5/sonuc.jpg\" alt=\"img\" style=\"height:30%; width:30%;\">\n",
    "\n",
    "\n",
    "* Energy E(RB3LYP): -955.749162 Hartree"
   ]
  },
  {
   "cell_type": "markdown",
   "metadata": {
    "vscode": {
     "languageId": "plaintext"
    }
   },
   "source": [
    "# D6.\n",
    "\n",
    "\n",
    "Önce\n",
    "\n",
    "<img src=\"MATrp_D6/orj.jpg\" alt=\"img\" style=\"height:30%; width:30%;\">\n",
    "\n",
    "Yapılacak İşlem\n",
    "\n",
    "<img src=\"MATrp_D6/before.jpg\" alt=\"img\" style=\"height:30%; width:30%;\">\n",
    "\n",
    "Sonuç\n",
    "\n",
    "<img src=\"MATrp_D6/sonuc.jpg\" alt=\"img\" style=\"height:30%; width:30%;\">\n",
    "\n",
    "\n",
    "* Energy E(RB3LYP): -955.760538 Hartree"
   ]
  },
  {
   "cell_type": "markdown",
   "metadata": {},
   "source": [
    "# D7.\n",
    "\n",
    "\n",
    "Önce\n",
    "\n",
    "<img src=\"MATrp_D7/orj.jpg\" alt=\"img\" style=\"height:30%; width:30%;\">\n",
    "\n",
    "Yapılacak İşlem\n",
    "\n",
    "<img src=\"MATrp_D7/before.jpg\" alt=\"img\" style=\"height:30%; width:30%;\">\n",
    "\n",
    "Sonuç\n",
    "\n",
    "<img src=\"MATrp_D7/sonuc.jpg\" alt=\"img\" style=\"height:30%; width:30%;\">\n",
    "\n",
    "\n",
    "* Energy E(RB3LYP): -955.760081 Hartree"
   ]
  },
  {
   "cell_type": "markdown",
   "metadata": {},
   "source": [
    "# D8.\n",
    "\n",
    "\n",
    "Önce\n",
    "\n",
    "<img src=\"MATrp_D8/orj.jpg\" alt=\"img\" style=\"height:30%; width:30%;\">\n",
    "\n",
    "Yapılacak İşlem\n",
    "\n",
    "<img src=\"MATrp_D8/before.jpg\" alt=\"img\" style=\"height:30%; width:30%;\">\n",
    "\n",
    "Sonuç\n",
    "\n",
    "<img src=\"MATrp_D8/sonuc.jpg\" alt=\"img\" style=\"height:30%; width:30%;\">\n",
    "\n",
    "\n",
    "* Energy E(RB3LYP): -955.749162 Hartree"
   ]
  },
  {
   "cell_type": "markdown",
   "metadata": {},
   "source": [
    "# D9.\n",
    "\n",
    "\n",
    "Önce\n",
    "\n",
    "<img src=\"MATrp_D9/orj.jpg\" alt=\"img\" style=\"height:30%; width:30%;\">\n",
    "\n",
    "Yapılacak İşlem\n",
    "\n",
    "<img src=\"MATrp_D9/before.jpg\" alt=\"img\" style=\"height:30%; width:30%;\">\n",
    "\n",
    "Sonuç\n",
    "\n",
    "<img src=\"MATrp_D9/sonuc.jpg\" alt=\"img\" style=\"height:30%; width:30%;\">\n",
    "\n",
    "\n",
    "* Energy E(RB3LYP): -955.760538 Hartree"
   ]
  },
  {
   "cell_type": "markdown",
   "metadata": {},
   "source": [
    "# D10.\n",
    "\n",
    "\n",
    "Önce\n",
    "\n",
    "<img src=\"MATrp_D10/orj.jpg\" alt=\"img\" style=\"height:30%; width:30%;\">\n",
    "\n",
    "Yapılacak İşlem\n",
    "\n",
    "<img src=\"MATrp_D10/before.jpg\" alt=\"img\" style=\"height:30%; width:30%;\">\n",
    "\n",
    "Sonuç\n",
    "\n",
    "<img src=\"MATrp_D10/sonuc.jpg\" alt=\"img\" style=\"height:30%; width:30%;\">\n",
    "\n",
    "\n",
    "* Energy E(RB3LYP): -955.760538 Hartree"
   ]
  },
  {
   "cell_type": "markdown",
   "metadata": {},
   "source": [
    "# D11.\n",
    "\n",
    "\n",
    "Önce\n",
    "\n",
    "<img src=\"MATrp_D11/orj.jpg\" alt=\"img\" style=\"height:30%; width:30%;\">\n",
    "\n",
    "Yapılacak İşlem\n",
    "\n",
    "<img src=\"MATrp_D11/before.jpg\" alt=\"img\" style=\"height:30%; width:30%;\">\n",
    "\n",
    "Sonuç\n",
    "\n",
    "<img src=\"MATrp_D11/sonuc.jpg\" alt=\"img\" style=\"height:30%; width:30%;\">\n",
    "\n",
    "\n",
    "* Energy E(RB3LYP): -955.760538 Hartree"
   ]
  }
 ],
 "metadata": {
  "language_info": {
   "name": "python"
  }
 },
 "nbformat": 4,
 "nbformat_minor": 2
}
