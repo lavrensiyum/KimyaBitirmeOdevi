{
 "cells": [
  {
   "cell_type": "code",
   "execution_count": null,
   "metadata": {
    "vscode": {
     "languageId": "plaintext"
    }
   },
   "outputs": [],
   "source": [
    "Çizildikten Sonraki ilk Geopt\n",
    "\n",
    "<img src=\"MATrp_0/MATrp_0.jpg\" alt=\"img\" style=\"height:40%; width:40%;\">\n",
    "\n",
    "\n",
    "\n",
    "\"\"\"\"\n",
    "%nprocshared=8\n",
    "%chk=Preview_8nixz.chk\n",
    "#p opt=tight freq b3lyp/6-31g(d,p) guess=save geom=connectivity\n",
    "\n",
    "MATrp OptFreq tight B3LYP/6-31Gd\n",
    "\n",
    "0 1\n",
    " N                  1.89041900    0.43518700    0.00467600\n",
    " C                  1.02163400    1.12570000   -0.92807900\n",
    " H                  1.65812400    1.69333700   -1.61331100\n",
    " C                  0.10841800    2.12590500   -0.23426200\n",
    " O                 -0.54394300    2.95333800   -0.83323000\n",
    " C                  0.17560000    0.14838700   -1.80786900\n",
    " H                 -0.41602100    0.75942200   -2.49883700\n",
    " H                  0.90047200   -0.41103600   -2.40721600\n",
    " C                 -0.70243400   -0.79535700   -1.03975700\n",
    " C                 -0.36646400   -2.07065000   -0.65472700\n",
    " H                  0.54161900   -2.62674300   -0.84572800\n",
    " C                 -2.04070900   -0.56321600   -0.54193300\n",
    " N                 -1.40320400   -2.64295000    0.05789800\n",
    " H                 -1.42013700   -3.59094200    0.39980400\n",
    " C                 -2.44903100   -1.74594200    0.13627600\n",
    " C                 -2.94200300    0.51596700   -0.61601500\n",
    " H                 -2.66292400    1.43294600   -1.12658600\n",
    " C                 -3.70657000   -1.87218300    0.73592600\n",
    " H                 -3.99884600   -2.78546400    1.24820900\n",
    " C                 -4.19250300    0.39383400   -0.02151200\n",
    " H                 -4.89543300    1.22064300   -0.07836600\n",
    " C                 -4.57117300   -0.78753100    0.64901100\n",
    " H                 -5.55672400   -0.85329300    1.10190200\n",
    " O                  0.06513400    1.96077800    1.10445800\n",
    " H                  1.54000800    0.28370900    0.93777000\n",
    " C                 -0.86409400    2.80890200    1.80612500\n",
    " H                 -0.69935200    2.60829500    2.86495400\n",
    " H                 -0.67134600    3.85864900    1.57443200\n",
    " H                 -1.88725500    2.55219400    1.52065400\n",
    " C                  3.09614300   -0.07360100   -0.39147100\n",
    " C                  3.89039100   -0.78594200    0.67763500\n",
    " C                  5.07278200   -1.29611200    0.31686300\n",
    " C                  3.34479300   -0.89739900    2.08133300\n",
    " O                  3.50041100    0.05117600   -1.54694900\n",
    " H                  5.70813000   -1.82104100    1.02491200\n",
    " H                  5.42274100   -1.18803000   -0.70434600\n",
    " H                  4.04399600   -1.43599400    2.72728500\n",
    " H                  3.17193900    0.08960700    2.53058500\n",
    " H                  2.38899200   -1.43882500    2.10636900\n",
    "\n",
    " 1 2 1.0 25 1.0 30 1.5\n",
    " 2 3 1.0 4 1.0 6 1.0\n",
    " 3\n",
    " 4 5 2.0 24 1.0\n",
    " 5\n",
    " 6 7 1.0 8 1.0 9 1.0\n",
    " 7\n",
    " 8\n",
    " 9 10 2.0 12 1.5\n",
    " 10 11 1.0 13 1.0\n",
    " 11\n",
    " 12 15 1.5 16 1.5\n",
    " 13 14 1.0 15 1.5\n",
    " 14\n",
    " 15 18 1.5\n",
    " 16 17 1.0 20 1.5\n",
    " 17\n",
    " 18 19 1.0 22 1.5\n",
    " 19\n",
    " 20 21 1.0 22 1.5\n",
    " 21\n",
    " 22 23 1.0\n",
    " 23\n",
    " 24 26 1.0\n",
    " 25\n",
    " 26 27 1.0 28 1.0 29 1.0\n",
    " 27\n",
    " 28\n",
    " 29\n",
    " 30 31 1.0 34 2.0\n",
    " 31 32 2.0 33 1.0\n",
    " 32 35 1.0 36 1.0\n",
    " 33 37 1.0 38 1.0 39 1.0\n",
    " 34\n",
    " 35\n",
    " 36\n",
    " 37\n",
    " 38\n",
    " 39\n",
    "\n",
    "\"\"\"\"\""
   ]
  },
  {
   "cell_type": "code",
   "execution_count": null,
   "metadata": {
    "vscode": {
     "languageId": "plaintext"
    }
   },
   "outputs": [],
   "source": [
    "Olası hidrojen bağları \n",
    "0. Sadece OptFreq           -955.729908\n",
    "1. D34, H36                 -955.729908\n",
    "2. D34, H35 +               <1. de çıkmadığı için atlandı>\n",
    "3. D34, H25 +               < distance matrix error verdiği için atlandı>\n",
    "4. D34, H3  +\n",
    "\n",
    "O5 Oksijeni ile Hidrojen bağı olasılıkları\n",
    "MATrp_3 = H28-O5,\n",
    "MATrp_4 = H25-O5,\n",
    "\n",
    "\n",
    "----------------------\n",
    "\n",
    "c4, Dihedral Rotate\n",
    "c33, c31 arkasına gönder\n",
    "c26, d24 arkasına gönder\n",
    "h25, n1 arkasına gönder\n",
    "d5, c4 arkasına gönder\n",
    "c9, c2 arkasına gönder\n",
    "\n",
    "\n",
    "D1. C32 - C31 - C30 - O34 180* döndürüldü\n",
    "\n",
    "D4. \n",
    "\n",
    "\n",
    "ORJ.                            -955.729908     0\n",
    "D4. Energy E(RB3LYP):           -955.756722     (+ 0.026814)\n",
    "D5. Energy E(RB3LYP):           -955.749162     (+ 0.019254)\n"
   ]
  },
  {
   "cell_type": "markdown",
   "metadata": {},
   "source": [
    "MATrp_0\n",
    "\n",
    "-955.729908"
   ]
  },
  {
   "cell_type": "markdown",
   "metadata": {},
   "source": [
    "# MATrp_1: D34 - H36 olası hidrojen bağı\n",
    "\n",
    "Önce\n",
    "\n",
    "<img src=\"MATrp_1/Before.jpg\" alt=\"img\" style=\"height:30%; width:30%;\">\n",
    "\n",
    "Sonra\n",
    "\n",
    "<img src=\"MATrp_1/After.jpg\" alt=\"img\" style=\"height:30%; width:30%;\">\n",
    "\n",
    "\n",
    "* Energy E(RB3LYP): -955.729908 Hartree (Değişim: 0)\n"
   ]
  },
  {
   "cell_type": "markdown",
   "metadata": {},
   "source": [
    "# MATrp_2: D34-H25 olası H. Bağı\n",
    "\n",
    "Önce\n"
   ]
  },
  {
   "cell_type": "markdown",
   "metadata": {},
   "source": [
    "# D1. <<C32 - C31 - C30 - O34>> 180* döndürüldü\n",
    "\n",
    "Önce\n",
    "\n",
    "<img src=\"MATrp_D1/Orj.jpg\" alt=\"img\" style=\"height:30%; width:30%;\">\n",
    "\n",
    "Yapılacak İşlem\n",
    "\n",
    "<img src=\"MATrp_D1/Before.jpg\" alt=\"img\" style=\"height:30%; width:30%;\">\n",
    "\n",
    "Sonuç\n",
    "\n",
    "<img src=\"MATrp_D1/After.jpg\" alt=\"img\" style=\"height:30%; width:30%;\">\n",
    "\n",
    "\n",
    "* Energy E(RB3LYP): -955.729755 Hartree (Değişim: +000.153) (Daha kararsız)\n"
   ]
  },
  {
   "cell_type": "markdown",
   "metadata": {
    "vscode": {
     "languageId": "plaintext"
    }
   },
   "source": [
    "# D2. <<C6 - C2 - N1>> Üç atom grubu da düzleştirildi\n",
    "\n",
    "\n",
    "Önce\n",
    "\n",
    "<img src=\"MATrp_D2/Before.jpg\" alt=\"img\" style=\"height:30%; width:30%;\">\n",
    "\n",
    "Yapılacak İşlem\n",
    "\n",
    "<img src=\"MATrp_D2/Input.jpg\" alt=\"img\" style=\"height:30%; width:30%;\">\n",
    "\n",
    "Sonuç\n",
    "\n",
    "<img src=\"MATrp_D2/Output.jpg\" alt=\"img\" style=\"height:30%; width:30%;\">\n",
    "\n",
    "\n",
    "* Energy E(RB3LYP): -955.729908 Hartree (Değişim yok)"
   ]
  },
  {
   "cell_type": "markdown",
   "metadata": {},
   "source": [
    "# D2. <<C6 - C2 - C9>> C9, C2 ye yaklaştırıldı\n",
    "\n",
    "\n",
    "Önce\n",
    "\n",
    "<img src=\"MATrp_D3/Before.jpg\" alt=\"img\" style=\"height:30%; width:30%;\">\n",
    "\n",
    "Yapılacak İşlem\n",
    "\n",
    "<img src=\"MATrp_D3/Input.jpg\" alt=\"img\" style=\"height:30%; width:30%;\">\n",
    "\n",
    "Sonuç\n",
    "\n",
    "<img src=\"MATrp_D3/Output.jpg\" alt=\"img\" style=\"height:30%; width:30%;\">\n",
    "\n",
    "\n",
    "* Energy E(RB3LYP): -955.729908 Hartree (Değişim yok)"
   ]
  },
  {
   "cell_type": "markdown",
   "metadata": {},
   "source": [
    "# D4.\n",
    "\n",
    "\n",
    "Önce\n",
    "\n",
    "<img src=\"MATrp_D4/orj.jpg\" alt=\"img\" style=\"height:30%; width:30%;\">\n",
    "\n",
    "Yapılacak İşlem\n",
    "\n",
    "<img src=\"MATrp_D4/before.jpg\" alt=\"img\" style=\"height:30%; width:30%;\">\n",
    "\n",
    "Sonuç\n",
    "\n",
    "<img src=\"MATrp_D4/sonuc.jpg\" alt=\"img\" style=\"height:30%; width:30%;\">\n",
    "\n",
    "\n",
    "* Energy E(RB3LYP): -955.756722 Hartree (Değişim yok)"
   ]
  },
  {
   "cell_type": "markdown",
   "metadata": {},
   "source": [
    "\n",
    "# D5.\n",
    "\n",
    "\n",
    "Önce\n",
    "\n",
    "<img src=\"MATrp_D5/orj.jpg\" alt=\"img\" style=\"height:30%; width:30%;\">\n",
    "\n",
    "Yapılacak İşlem\n",
    "\n",
    "<img src=\"MATrp_D5/before.jpg\" alt=\"img\" style=\"height:30%; width:30%;\">\n",
    "\n",
    "Sonuç\n",
    "\n",
    "<img src=\"MATrp_D5/sonuc.jpg\" alt=\"img\" style=\"height:30%; width:30%;\">\n",
    "\n",
    "\n",
    "* Energy E(RB3LYP): -955.749162 Hartree"
   ]
  },
  {
   "cell_type": "code",
   "execution_count": null,
   "metadata": {
    "vscode": {
     "languageId": "plaintext"
    }
   },
   "outputs": [],
   "source": []
  }
 ],
 "metadata": {
  "language_info": {
   "name": "python"
  }
 },
 "nbformat": 4,
 "nbformat_minor": 2
}
